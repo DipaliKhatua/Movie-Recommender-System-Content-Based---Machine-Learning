{
 "cells": [
  {
   "cell_type": "markdown",
   "id": "9ffa6dd1",
   "metadata": {},
   "source": [
    "Needed for data manipulation (pandas) and numerical operations (numpy). Example: pandas helps read CSV files"
   ]
  },
  {
   "cell_type": "code",
   "execution_count": null,
   "id": "2fa950ab",
   "metadata": {},
   "outputs": [],
   "source": [
    "import numpy as np\n",
    "import pandas as pd"
   ]
  },
  {
   "cell_type": "markdown",
   "id": "af2cbd09",
   "metadata": {},
   "source": [
    "Loading Data"
   ]
  },
  {
   "cell_type": "code",
   "execution_count": null,
   "id": "fc3bd056",
   "metadata": {},
   "outputs": [],
   "source": [
    "# Loading Data\n",
    "movies = pd.read_csv('Data/movies.csv')\n",
    "credits = pd.read_csv('Data/credits.csv')\n",
    "movies.head(1)"
   ]
  },
  {
   "cell_type": "code",
   "execution_count": null,
   "id": "ab039fcb",
   "metadata": {},
   "outputs": [],
   "source": [
    "credits.head(1)"
   ]
  },
  {
   "cell_type": "markdown",
   "id": "a32cf4a1",
   "metadata": {},
   "source": [
    "Merging Datasets\n",
    " - Merges both datasets on the common column 'title' to combine information like cast and crew."
   ]
  },
  {
   "cell_type": "code",
   "execution_count": null,
   "id": "ce378247",
   "metadata": {},
   "outputs": [],
   "source": [
    "movies = movies.merge(credits, on='title')"
   ]
  },
  {
   "cell_type": "markdown",
   "id": "5ad0fdb5",
   "metadata": {},
   "source": [
    "Checking Dataset Information\n",
    "- Helps understand how big the dataset is and what type of data it contains"
   ]
  },
  {
   "cell_type": "code",
   "execution_count": null,
   "id": "897f0bdc",
   "metadata": {},
   "outputs": [],
   "source": [
    "movies.head(1)"
   ]
  },
  {
   "cell_type": "code",
   "execution_count": null,
   "id": "9bd26e8e",
   "metadata": {},
   "outputs": [],
   "source": [
    "credits.shape"
   ]
  },
  {
   "cell_type": "code",
   "execution_count": null,
   "id": "8cabcd58",
   "metadata": {},
   "outputs": [],
   "source": [
    "movies.info()"
   ]
  },
  {
   "cell_type": "markdown",
   "id": "69d800b5",
   "metadata": {},
   "source": [
    "#### Selecting features for further analysis .. "
   ]
  },
  {
   "cell_type": "code",
   "execution_count": null,
   "id": "e6b5256e",
   "metadata": {},
   "outputs": [],
   "source": [
    "# geners\n",
    "# id\n",
    "# keywords\n",
    "# title\n",
    "# overview\n",
    "# release date\n",
    "# cast\n",
    "# crew"
   ]
  },
  {
   "cell_type": "markdown",
   "id": "38bf8e1a",
   "metadata": {},
   "source": [
    "Keeps only useful columns for recommendations. Example: We need 'genres' and 'overview' for content-based filtering"
   ]
  },
  {
   "cell_type": "code",
   "execution_count": null,
   "id": "1b7be52e",
   "metadata": {},
   "outputs": [],
   "source": [
    "movies['original_language'].value_counts()"
   ]
  },
  {
   "cell_type": "code",
   "execution_count": null,
   "id": "f14eeb92",
   "metadata": {},
   "outputs": [],
   "source": [
    "movies = movies[['movie_id','title','overview','genres','keywords','cast','crew']]"
   ]
  },
  {
   "cell_type": "code",
   "execution_count": null,
   "id": "fa649109",
   "metadata": {},
   "outputs": [],
   "source": [
    "movies.head(2)"
   ]
  },
  {
   "cell_type": "markdown",
   "id": "7dc7f9b7",
   "metadata": {},
   "source": [
    "## Preporcessing"
   ]
  },
  {
   "cell_type": "markdown",
   "id": "3182816d",
   "metadata": {},
   "source": [
    "Handling Missing Data"
   ]
  },
  {
   "cell_type": "code",
   "execution_count": null,
   "id": "8ba46f4d",
   "metadata": {},
   "outputs": [],
   "source": [
    "# missing values\n",
    "movies.isnull().sum()"
   ]
  },
  {
   "cell_type": "code",
   "execution_count": null,
   "id": "6136daf4",
   "metadata": {},
   "outputs": [],
   "source": [
    "# overview oclumn having 3 missing value which is very less, so dropping them ..\n",
    "movies.dropna(inplace=True)"
   ]
  },
  {
   "cell_type": "markdown",
   "id": "80b95424",
   "metadata": {},
   "source": [
    "Checking Unique & Duplicate Values"
   ]
  },
  {
   "cell_type": "code",
   "execution_count": null,
   "id": "3fbe2046",
   "metadata": {},
   "outputs": [],
   "source": [
    "# Finds unique values in each column  \n",
    "movies.nunique()"
   ]
  },
  {
   "cell_type": "code",
   "execution_count": null,
   "id": "7d969be2",
   "metadata": {},
   "outputs": [],
   "source": [
    "movies['genres'].value_counts()"
   ]
  },
  {
   "cell_type": "code",
   "execution_count": null,
   "id": "0eeb5943",
   "metadata": {},
   "outputs": [],
   "source": [
    " # Counts duplicate entries  \n",
    "movies.duplicated().sum()"
   ]
  },
  {
   "cell_type": "code",
   "execution_count": null,
   "id": "df1da10c",
   "metadata": {},
   "outputs": [],
   "source": [
    "movies.iloc[0].genres"
   ]
  },
  {
   "cell_type": "markdown",
   "id": "1e2a8846",
   "metadata": {},
   "source": [
    "Ensures we don’t have repeated movie entries that could skew recommendations."
   ]
  },
  {
   "cell_type": "markdown",
   "id": "35000525",
   "metadata": {},
   "source": [
    "Extracting Important Details"
   ]
  },
  {
   "cell_type": "code",
   "execution_count": null,
   "id": "03e883e8",
   "metadata": {},
   "outputs": [],
   "source": [
    "import ast # Helps convert string data to Python lists  "
   ]
  },
  {
   "cell_type": "code",
   "execution_count": null,
   "id": "6f854945",
   "metadata": {},
   "outputs": [],
   "source": [
    "# Extracts genre and keyword names from structured data.\n",
    "#  Example: Converts \"[{'id': 18, 'name': 'Drama'}]\" to ['Drama'].\n",
    "\n",
    "def convert(text):\n",
    "    L = []\n",
    "    for i in ast.literal_eval(text):\n",
    "        L.append(i['name']) \n",
    "    return L "
   ]
  },
  {
   "cell_type": "code",
   "execution_count": null,
   "id": "47e16eb1",
   "metadata": {},
   "outputs": [],
   "source": [
    "movies['genres'] = movies['genres'].apply(convert)"
   ]
  },
  {
   "cell_type": "code",
   "execution_count": null,
   "id": "dd5c309f",
   "metadata": {},
   "outputs": [],
   "source": [
    "movies.head(1)"
   ]
  },
  {
   "cell_type": "code",
   "execution_count": null,
   "id": "a98dd20d",
   "metadata": {},
   "outputs": [],
   "source": [
    "movies['keywords'] = movies['keywords'].apply(convert)"
   ]
  },
  {
   "cell_type": "code",
   "execution_count": null,
   "id": "c3772b56",
   "metadata": {},
   "outputs": [],
   "source": [
    "movies.head(1)"
   ]
  },
  {
   "cell_type": "markdown",
   "id": "e35b95b4",
   "metadata": {},
   "source": [
    "Processing Cast & Crew"
   ]
  },
  {
   "cell_type": "code",
   "execution_count": null,
   "id": "07672e6e",
   "metadata": {},
   "outputs": [],
   "source": [
    "# Keeps only the top 3 actors for each movie.\n",
    "def convert3(text):\n",
    "    L = []\n",
    "    counter = 0\n",
    "    for i in ast.literal_eval(text):\n",
    "        if counter < 3:\n",
    "            L.append(i['name'])\n",
    "        counter+=1\n",
    "    return L "
   ]
  },
  {
   "cell_type": "code",
   "execution_count": null,
   "id": "2607f6fe",
   "metadata": {},
   "outputs": [],
   "source": [
    "movies['cast'] = movies['cast'].apply(convert3)"
   ]
  },
  {
   "cell_type": "code",
   "execution_count": null,
   "id": "ca7c37d7",
   "metadata": {},
   "outputs": [],
   "source": [
    "movies.head(1)"
   ]
  },
  {
   "cell_type": "code",
   "execution_count": null,
   "id": "b41935f0",
   "metadata": {},
   "outputs": [],
   "source": [
    "movies['crew'][0]"
   ]
  },
  {
   "cell_type": "code",
   "execution_count": null,
   "id": "222990a5",
   "metadata": {},
   "outputs": [],
   "source": [
    "# Extracts director names from the crew list. \n",
    "# Example: Turns \"[{'job': 'Director', 'name': 'Christopher Nolan'}]\" into ['Christopher Nolan'].\n",
    "\n",
    "def fetch_director(text):\n",
    "    L = []\n",
    "    for i in ast.literal_eval(text):\n",
    "        if i['job'] == 'Director':\n",
    "            L.append(i['name'])\n",
    "    return L "
   ]
  },
  {
   "cell_type": "code",
   "execution_count": null,
   "id": "3f70ea23",
   "metadata": {},
   "outputs": [],
   "source": [
    "movies['crew'] = movies['crew'].apply(fetch_director)"
   ]
  },
  {
   "cell_type": "code",
   "execution_count": null,
   "id": "09a03aca",
   "metadata": {},
   "outputs": [],
   "source": [
    "movies.head(1)"
   ]
  },
  {
   "cell_type": "code",
   "execution_count": null,
   "id": "4a14036e",
   "metadata": {},
   "outputs": [],
   "source": [
    "movies['overview'][0]"
   ]
  },
  {
   "cell_type": "markdown",
   "id": "6a89e341",
   "metadata": {},
   "source": [
    "Tokenizing Overview\n",
    "- Splits movie descriptions into words. Example: \"A thrilling adventure\" → ['A', 'thrilling', 'adventure'].\n"
   ]
  },
  {
   "cell_type": "code",
   "execution_count": null,
   "id": "f2106620",
   "metadata": {},
   "outputs": [],
   "source": [
    "movies['overview'] = movies['overview'].apply(lambda x:x.split())"
   ]
  },
  {
   "cell_type": "code",
   "execution_count": null,
   "id": "85992207",
   "metadata": {},
   "outputs": [],
   "source": [
    "movies.head(1)"
   ]
  },
  {
   "cell_type": "markdown",
   "id": "95740e34",
   "metadata": {},
   "source": [
    "Removing Spaces in Text\n",
    "- Makes words easier to process. Example: 'Science Fiction' → 'ScienceFiction'."
   ]
  },
  {
   "cell_type": "code",
   "execution_count": null,
   "id": "db945d03",
   "metadata": {},
   "outputs": [],
   "source": [
    "movies['genres'] = movies['genres'].apply(lambda x:[i.replace(\" \", \"\") for i in x])"
   ]
  },
  {
   "cell_type": "code",
   "execution_count": null,
   "id": "bd27beb7",
   "metadata": {},
   "outputs": [],
   "source": [
    "movies['keywords'] = movies['keywords'].apply(lambda x:[i.replace(\" \", \"\") for i in x])"
   ]
  },
  {
   "cell_type": "code",
   "execution_count": null,
   "id": "39895467",
   "metadata": {},
   "outputs": [],
   "source": [
    "movies['cast'] = movies['cast'].apply(lambda x:[i.replace(\" \", \"\") for i in x])"
   ]
  },
  {
   "cell_type": "code",
   "execution_count": null,
   "id": "449d9ff5",
   "metadata": {},
   "outputs": [],
   "source": [
    "movies['crew'] = movies['crew'].apply(lambda x:[i.replace(\" \", \"\") for i in x])"
   ]
  },
  {
   "cell_type": "code",
   "execution_count": null,
   "id": "5423f5a9",
   "metadata": {},
   "outputs": [],
   "source": [
    "movies.head()"
   ]
  },
  {
   "cell_type": "markdown",
   "id": "50f97830",
   "metadata": {},
   "source": [
    "Creating \"Tags\" Column for Recommendations"
   ]
  },
  {
   "cell_type": "code",
   "execution_count": null,
   "id": "4f914c9d",
   "metadata": {},
   "outputs": [],
   "source": [
    "# Combines all relevant information into a single column for similarity matching.\n",
    "movies['tags'] = movies['overview'] + movies['genres'] + movies['keywords'] + movies['cast'] + movies['crew']"
   ]
  },
  {
   "cell_type": "code",
   "execution_count": null,
   "id": "85b9346a",
   "metadata": {},
   "outputs": [],
   "source": [
    "movies.head()"
   ]
  },
  {
   "cell_type": "code",
   "execution_count": null,
   "id": "d576f3ba",
   "metadata": {},
   "outputs": [],
   "source": [
    "movies['tags'][0]"
   ]
  },
  {
   "cell_type": "markdown",
   "id": "bee58c24",
   "metadata": {},
   "source": [
    "Final Dataframe for Model\n",
    "- Keeps only necessary columns for recommendation modeling."
   ]
  },
  {
   "cell_type": "code",
   "execution_count": null,
   "id": "cf459e74",
   "metadata": {},
   "outputs": [],
   "source": [
    "new_df = movies[['movie_id', 'title', 'tags']]"
   ]
  },
  {
   "cell_type": "code",
   "execution_count": null,
   "id": "9af6481b",
   "metadata": {},
   "outputs": [],
   "source": [
    "new_df.head()"
   ]
  },
  {
   "cell_type": "markdown",
   "id": "1e04b3a8",
   "metadata": {},
   "source": [
    "Text \n",
    "- Joins words into a single sentence & converts to lowercase for uniformity. Example: ['Epic', 'Drama'] → 'epic drama'.\n"
   ]
  },
  {
   "cell_type": "code",
   "execution_count": null,
   "id": "9c4fb7a8",
   "metadata": {},
   "outputs": [],
   "source": [
    "new_df['tags'] = new_df['tags'].apply(lambda x:\" \".join(x))"
   ]
  },
  {
   "cell_type": "code",
   "execution_count": null,
   "id": "5ee356ff",
   "metadata": {},
   "outputs": [],
   "source": [
    "new_df.head(2)"
   ]
  },
  {
   "cell_type": "code",
   "execution_count": null,
   "id": "6ecb96ca",
   "metadata": {},
   "outputs": [],
   "source": [
    "new_df['tags'] = new_df['tags'].apply(lambda x:x.lower())"
   ]
  },
  {
   "cell_type": "code",
   "execution_count": null,
   "id": "856e93fb",
   "metadata": {},
   "outputs": [],
   "source": [
    "new_df['tags'][0]"
   ]
  },
  {
   "cell_type": "code",
   "execution_count": null,
   "id": "b76bc8b4",
   "metadata": {},
   "outputs": [],
   "source": [
    "new_df['tags'][1]"
   ]
  },
  {
   "cell_type": "markdown",
   "id": "9e4b1471",
   "metadata": {},
   "source": [
    "Imports CountVectorizer from scikit-learn for text feature extraction."
   ]
  },
  {
   "cell_type": "code",
   "execution_count": null,
   "id": "d13288e9",
   "metadata": {},
   "outputs": [],
   "source": [
    "# Creates a CountVectorizer instance:\n",
    "# - max_features=5000 → Limits vocabulary to the 5000 most frequent words.\n",
    "# - stop_words='english' → Removes common English words like \"the,\" \"is,\" \"and\" to focus on important words.\n",
    "\n",
    "from sklearn.feature_extraction.text import CountVectorizer\n",
    "Count_Vectorizer = CountVectorizer(max_features=5000, stop_words='english')"
   ]
  },
  {
   "cell_type": "code",
   "execution_count": null,
   "id": "35ee92a1",
   "metadata": {},
   "outputs": [],
   "source": [
    "Count_Vectorizer"
   ]
  },
  {
   "cell_type": "markdown",
   "id": "981dbcb0",
   "metadata": {},
   "source": [
    "Transforms the text data (tags) into a matrix of token counts and converts it into a NumPy array."
   ]
  },
  {
   "cell_type": "code",
   "execution_count": null,
   "id": "1438e148",
   "metadata": {},
   "outputs": [],
   "source": [
    "vectors = Count_Vectorizer.fit_transform(new_df['tags']).toarray()"
   ]
  },
  {
   "cell_type": "code",
   "execution_count": null,
   "id": "51869711",
   "metadata": {},
   "outputs": [],
   "source": [
    "vectors"
   ]
  },
  {
   "cell_type": "code",
   "execution_count": null,
   "id": "4fa393e3",
   "metadata": {},
   "outputs": [],
   "source": [
    "vectors.shape"
   ]
  },
  {
   "cell_type": "code",
   "execution_count": null,
   "id": "aac24784",
   "metadata": {},
   "outputs": [],
   "source": [
    "#Gets the total number of unique words (features) used in the model.\n",
    "len(Count_Vectorizer.get_feature_names_out())"
   ]
  },
  {
   "cell_type": "code",
   "execution_count": null,
   "id": "5bcff364",
   "metadata": {},
   "outputs": [],
   "source": [
    "#Lists all unique words in the vocabulary after vectorization.\n",
    "# Example: Words like 'action', 'drama', 'thriller' might appear in the list, which is crucial for understanding what terms the model considers.\n",
    "\n",
    "Count_Vectorizer.get_feature_names_out()"
   ]
  },
  {
   "cell_type": "markdown",
   "id": "ae369016",
   "metadata": {},
   "source": [
    "Introducing NLP Stemming\n",
    "\n",
    "- nltk is a Natural Language Processing library for handling text.\n",
    "- PorterStemmer helps in stemming—reducing words to their root form (e.g., running → run, actors → actor)."
   ]
  },
  {
   "cell_type": "code",
   "execution_count": null,
   "id": "6a2e40e7",
   "metadata": {},
   "outputs": [],
   "source": [
    "import nltk\n",
    "from nltk.stem.porter import PorterStemmer\n",
    "ps = PorterStemmer()"
   ]
  },
  {
   "cell_type": "code",
   "execution_count": null,
   "id": "8f8aeb8e",
   "metadata": {},
   "outputs": [],
   "source": [
    "# helper function\n",
    "def stem(text):\n",
    "    y = []\n",
    "\n",
    "    for i in text.split(): # Split text into words  \n",
    "        y.append(ps.stem(i)) # Apply stemming to each word \n",
    "\n",
    "    return\" \".join(y)  # Join stemmed words back into a sentence"
   ]
  },
  {
   "cell_type": "code",
   "execution_count": null,
   "id": "da0f2d83",
   "metadata": {},
   "outputs": [],
   "source": [
    "ps.stem(\"loving\")"
   ]
  },
  {
   "cell_type": "code",
   "execution_count": null,
   "id": "b397bb72",
   "metadata": {},
   "outputs": [],
   "source": [
    "ps.stem(\"loved\")"
   ]
  },
  {
   "cell_type": "code",
   "execution_count": null,
   "id": "3d5c5337",
   "metadata": {},
   "outputs": [],
   "source": [
    "ps.stem(\"Swimming\")"
   ]
  },
  {
   "cell_type": "code",
   "execution_count": null,
   "id": "35339116",
   "metadata": {},
   "outputs": [],
   "source": [
    "ps.stem(\"Swimmed\")"
   ]
  },
  {
   "cell_type": "code",
   "execution_count": null,
   "id": "d71fdbe9",
   "metadata": {},
   "outputs": [],
   "source": [
    "new_df['tags'] = new_df['tags'].apply(stem)"
   ]
  },
  {
   "cell_type": "code",
   "execution_count": null,
   "id": "eade80ff",
   "metadata": {},
   "outputs": [],
   "source": [
    "new_df['tags'][0]"
   ]
  },
  {
   "cell_type": "markdown",
   "id": "ef97cf6d",
   "metadata": {},
   "source": [
    "Applying cosine similarity helps find movies with descriptions most similar to a given movie—essential for recommendations.\n",
    " - Example: If Movie A has similar keywords to Movie B, their cosine similarity score will be high, making Movie B a good recommendation for someone who liked Movie A.\n"
   ]
  },
  {
   "cell_type": "code",
   "execution_count": null,
   "id": "c4dfaaa7",
   "metadata": {},
   "outputs": [],
   "source": [
    "from sklearn.metrics.pairwise import cosine_similarity\n",
    "similarity = cosine_similarity(vectors)"
   ]
  },
  {
   "cell_type": "code",
   "execution_count": null,
   "id": "29773fff",
   "metadata": {},
   "outputs": [],
   "source": [
    "similarity.shape"
   ]
  },
  {
   "cell_type": "code",
   "execution_count": null,
   "id": "b81f2c21",
   "metadata": {},
   "outputs": [],
   "source": [
    "sorted(list(enumerate(similarity[0])), reverse=True, key=lambda x:x[1])[1:6]"
   ]
  },
  {
   "cell_type": "code",
   "execution_count": null,
   "id": "e71a052e",
   "metadata": {},
   "outputs": [],
   "source": [
    "def recommend(movie):\n",
    "    index = new_df[new_df['title'] == movie].index[0]\n",
    "    distances = sorted(list(enumerate(similarity[index])),reverse=True,key = lambda x: x[1])\n",
    "    for i in distances[1:6]:\n",
    "        print(new_df.iloc[i[0]].title)"
   ]
  },
  {
   "cell_type": "code",
   "execution_count": null,
   "id": "78540053",
   "metadata": {},
   "outputs": [],
   "source": [
    "recommend('Avatar')"
   ]
  },
  {
   "cell_type": "code",
   "execution_count": null,
   "id": "35bd6195",
   "metadata": {},
   "outputs": [],
   "source": [
    "recommend('Batman')"
   ]
  },
  {
   "cell_type": "markdown",
   "id": "a118b5c2",
   "metadata": {},
   "source": [
    "Loading New Model"
   ]
  },
  {
   "cell_type": "code",
   "execution_count": null,
   "id": "34f78cae",
   "metadata": {},
   "outputs": [],
   "source": [
    "import pickle"
   ]
  },
  {
   "cell_type": "code",
   "execution_count": null,
   "id": "52151a0c",
   "metadata": {},
   "outputs": [],
   "source": [
    "pickle.dump(new_df, open('Artifacts/movies.pkl', 'wb'))"
   ]
  },
  {
   "cell_type": "code",
   "execution_count": null,
   "id": "75b8201f",
   "metadata": {},
   "outputs": [],
   "source": [
    "pickle.dump(similarity, open('Artifacts/similarity.pkl', 'wb'))"
   ]
  },
  {
   "cell_type": "code",
   "execution_count": null,
   "metadata": {},
   "outputs": [],
   "source": []
  }
 ],
 "metadata": {
  "kernelspec": {
   "display_name": "Python 3",
   "language": "python",
   "name": "python3"
  },
  "language_info": {
   "codemirror_mode": {
    "name": "ipython",
    "version": 3
   },
   "file_extension": ".py",
   "mimetype": "text/x-python",
   "name": "python",
   "nbconvert_exporter": "python",
   "pygments_lexer": "ipython3",
   "version": "3.12.3"
  }
 },
 "nbformat": 4,
 "nbformat_minor": 5
}
